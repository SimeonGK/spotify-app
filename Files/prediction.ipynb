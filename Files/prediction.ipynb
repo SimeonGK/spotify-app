{
 "cells": [
  {
   "cell_type": "code",
   "execution_count": 129,
   "metadata": {},
   "outputs": [],
   "source": [
    "#import dependencies/libraries\n",
    "import numpy as np\n",
    "import pandas as pd\n",
    "import plotly.express as px\n",
    "\n",
    "from sklearn.preprocessing import StandardScaler\n",
    "from sklearn.model_selection import train_test_split\n",
    "\n",
    "from sklearn.linear_model import LinearRegression\n",
    "from sklearn.neighbors import KNeighborsRegressor\n",
    "from sklearn.tree import DecisionTreeRegressor\n",
    "from sklearn.neural_network import MLPRegressor\n",
    "from sklearn.svm import SVR"
   ]
  },
  {
   "cell_type": "code",
   "execution_count": 130,
   "metadata": {},
   "outputs": [],
   "source": [
    "data = pd.read_csv('spotify_dataset.csv')"
   ]
  },
  {
   "cell_type": "markdown",
   "metadata": {},
   "source": [
    "## Preprocesing"
   ]
  },
  {
   "cell_type": "code",
   "execution_count": 131,
   "metadata": {},
   "outputs": [],
   "source": [
    "drop_list = ['Index', 'Highest Charting Position', 'Number of Times Charted',\n",
    "       'Week of Highest Charting', 'Song Name', 'Artist', 'Chord',\n",
    "     'Song ID', 'Release Date', 'Weeks Charted', 'Genre', 'Popularity'\n",
    "     ]\n",
    "data = data.drop(drop_list,axis=1)"
   ]
  },
  {
   "cell_type": "code",
   "execution_count": 132,
   "metadata": {},
   "outputs": [],
   "source": [
    "def object_to_numeric(df):\n",
    "    df = df.copy()\n",
    "    for i, column in enumerate(df.columns,start=1):\n",
    "        df[column] = pd.to_numeric(df[column],errors = 'coerce')\n",
    "    return df"
   ]
  },
  {
   "cell_type": "code",
   "execution_count": 133,
   "metadata": {},
   "outputs": [
    {
     "name": "stdout",
     "output_type": "stream",
     "text": [
      "<class 'pandas.core.frame.DataFrame'>\n",
      "Int64Index: 1545 entries, 0 to 1555\n",
      "Data columns (total 11 columns):\n",
      " #   Column            Non-Null Count  Dtype  \n",
      "---  ------            --------------  -----  \n",
      " 0   Streams           1545 non-null   float64\n",
      " 1   Artist Followers  1545 non-null   float64\n",
      " 2   Danceability      1545 non-null   float64\n",
      " 3   Energy            1545 non-null   float64\n",
      " 4   Loudness          1545 non-null   float64\n",
      " 5   Speechiness       1545 non-null   float64\n",
      " 6   Acousticness      1545 non-null   float64\n",
      " 7   Liveness          1545 non-null   float64\n",
      " 8   Tempo             1545 non-null   float64\n",
      " 9   Duration (ms)     1545 non-null   float64\n",
      " 10  Valence           1545 non-null   float64\n",
      "dtypes: float64(11)\n",
      "memory usage: 144.8 KB\n"
     ]
    }
   ],
   "source": [
    "data[\"Streams\"] = data[\"Streams\"].str.replace(',','').astype(np.float64)\n",
    "data = object_to_numeric(data)\n",
    "data = data.dropna()\n",
    "data.info()"
   ]
  },
  {
   "cell_type": "code",
   "execution_count": 134,
   "metadata": {},
   "outputs": [
    {
     "name": "stdout",
     "output_type": "stream",
     "text": [
      "<class 'pandas.core.frame.DataFrame'>\n",
      "Int64Index: 1545 entries, 0 to 1555\n",
      "Data columns (total 11 columns):\n",
      " #   Column            Non-Null Count  Dtype  \n",
      "---  ------            --------------  -----  \n",
      " 0   Streams           1545 non-null   float64\n",
      " 1   Artist Followers  1545 non-null   float64\n",
      " 2   Danceability      1545 non-null   float64\n",
      " 3   Energy            1545 non-null   float64\n",
      " 4   Loudness          1545 non-null   float64\n",
      " 5   Speechiness       1545 non-null   float64\n",
      " 6   Acousticness      1545 non-null   float64\n",
      " 7   Liveness          1545 non-null   float64\n",
      " 8   Tempo             1545 non-null   float64\n",
      " 9   Duration (ms)     1545 non-null   float64\n",
      " 10  Valence           1545 non-null   float64\n",
      "dtypes: float64(11)\n",
      "memory usage: 144.8 KB\n"
     ]
    }
   ],
   "source": [
    "data.info()"
   ]
  },
  {
   "cell_type": "markdown",
   "metadata": {},
   "source": [
    "Split and Scaling"
   ]
  },
  {
   "cell_type": "code",
   "execution_count": 135,
   "metadata": {},
   "outputs": [],
   "source": [
    "y = data.loc[:,'Streams']\n",
    "\n",
    "X = data.drop('Streams', axis=1)"
   ]
  },
  {
   "cell_type": "code",
   "execution_count": 136,
   "metadata": {},
   "outputs": [],
   "source": [
    "scaler = StandardScaler()\n",
    "\n",
    "X = scaler.fit_transform(X)"
   ]
  },
  {
   "cell_type": "code",
   "execution_count": 137,
   "metadata": {},
   "outputs": [],
   "source": [
    "X_train, X_test, y_train, y_test = train_test_split(X, y, train_size=0.7, random_state=20)"
   ]
  },
  {
   "cell_type": "markdown",
   "metadata": {},
   "source": [
    "Modeling and Training"
   ]
  },
  {
   "cell_type": "code",
   "execution_count": 138,
   "metadata": {},
   "outputs": [],
   "source": [
    "lin_model = LinearRegression()\n"
   ]
  },
  {
   "cell_type": "code",
   "execution_count": 139,
   "metadata": {},
   "outputs": [
    {
     "data": {
      "text/plain": [
       "LinearRegression()"
      ]
     },
     "execution_count": 139,
     "metadata": {},
     "output_type": "execute_result"
    }
   ],
   "source": [
    "lin_model.fit(X_train, y_train)\n"
   ]
  },
  {
   "cell_type": "code",
   "execution_count": 140,
   "metadata": {},
   "outputs": [],
   "source": [
    "lin_acc = lin_model.score(X_test, y_test)"
   ]
  },
  {
   "cell_type": "code",
   "execution_count": 141,
   "metadata": {},
   "outputs": [
    {
     "name": "stdout",
     "output_type": "stream",
     "text": [
      "Lin Accuracy: 0.014926872399369628\n"
     ]
    }
   ],
   "source": [
    "print(\"Lin Accuracy:\",lin_acc )"
   ]
  }
 ],
 "metadata": {
  "interpreter": {
   "hash": "d44def1377c3da7f18ece6afb11bf327435700b9c3bfae1637a7ff225d832ea7"
  },
  "kernelspec": {
   "display_name": "Python 3.8.10 64-bit ('venv': venv)",
   "language": "python",
   "name": "python3"
  },
  "language_info": {
   "codemirror_mode": {
    "name": "ipython",
    "version": 3
   },
   "file_extension": ".py",
   "mimetype": "text/x-python",
   "name": "python",
   "nbconvert_exporter": "python",
   "pygments_lexer": "ipython3",
   "version": "3.8.10"
  },
  "orig_nbformat": 4
 },
 "nbformat": 4,
 "nbformat_minor": 2
}
